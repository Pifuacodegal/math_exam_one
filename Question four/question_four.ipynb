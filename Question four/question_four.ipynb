{
 "cells": [
  {
   "cell_type": "markdown",
   "metadata": {},
   "source": [
    "Compute an inversion of the matrix transpose."
   ]
  },
  {
   "cell_type": "code",
   "execution_count": 1,
   "metadata": {},
   "outputs": [],
   "source": [
    "import numpy as np"
   ]
  },
  {
   "cell_type": "code",
   "execution_count": 2,
   "metadata": {},
   "outputs": [
    {
     "name": "stdout",
     "output_type": "stream",
     "text": [
      "Transpose matrix: [[1.  0.2 0.5]\n",
      " [0.2 1.  0.8]\n",
      " [0.5 0.8 1. ]]\n"
     ]
    }
   ],
   "source": [
    "A= ( ([1, 0.2, 0.5]), ([0.2,  1, 0.8]) , ([0.5,  0.8,  1]))\n",
    "matrixA= np.array ( [[1, 0.2, 0.5], [0.2,  1, 0.8] , [0.5,  0.8,  1]])\n",
    "transpose_matrixA = np.transpose(matrixA)\n",
    "print(\"Transpose matrix:\", transpose_matrixA)"
   ]
  },
  {
   "cell_type": "code",
   "execution_count": 3,
   "metadata": {},
   "outputs": [
    {
     "name": "stdout",
     "output_type": "stream",
     "text": [
      "matrix_transpose is:[[1.  0.2 0.5]\n",
      " [0.2 1.  0.8]\n",
      " [0.5 0.8 1. ]]\n"
     ]
    }
   ],
   "source": [
    "# Supply the code for the Question 2 (5 marks)\n",
    "matrix = np.array([[1, 0.2, 0.5], [0.2, 1, 0.8], [0.5, 0.8, 1]])\n",
    "\n",
    "matrix_transpose = matrix.T\n",
    "print(f'matrix_transpose is:{matrix_transpose}')"
   ]
  },
  {
   "cell_type": "code",
   "execution_count": 4,
   "metadata": {},
   "outputs": [
    {
     "name": "stdout",
     "output_type": "stream",
     "text": [
      "[1, 0.2, 0.5]\n",
      "[0.2, 1, 0.8]\n",
      "[0.5, 0.8, 1]\n"
     ]
    }
   ],
   "source": [
    " #Given matrix A\n",
    "A = [\n",
    "    [1, 0.2, 0.5],\n",
    "    [0.2, 1, 0.8],\n",
    "    [0.5, 0.8, 1]\n",
    "]\n",
    "\n",
    "# Transpose matrix A\n",
    "A_transpose = [[row[i] for row in A] for i in range(len(A[0]))]\n",
    "\n",
    "# Print the transposed matrix\n",
    "for row in A_transpose:\n",
    "    print(row)"
   ]
  },
  {
   "cell_type": "markdown",
   "metadata": {},
   "source": [
    "Compute the determinant of the matrix"
   ]
  },
  {
   "cell_type": "code",
   "execution_count": 8,
   "metadata": {},
   "outputs": [
    {
     "name": "stdout",
     "output_type": "stream",
     "text": [
      "Determinat: 0.2299999999999999\n"
     ]
    }
   ],
   "source": [
    "A= ( ([1, 0.2, 0.5]), ([0.2,  1, 0.8]) , ([0.5,  0.8,  1]))\n",
    "matrixA = np.array ( [[1, 0.2, 0.5], [0.2,  1, 0.8] , [0.5,  0.8,  1]])\n",
    "determinant = np.linalg.det(matrixA)\n",
    "print(\"Determinat:\", determinant)"
   ]
  },
  {
   "cell_type": "markdown",
   "metadata": {},
   "source": [
    "Decompose the matrix"
   ]
  },
  {
   "cell_type": "code",
   "execution_count": 1,
   "metadata": {},
   "outputs": [],
   "source": [
    "import numpy as np"
   ]
  },
  {
   "cell_type": "code",
   "execution_count": 2,
   "metadata": {},
   "outputs": [],
   "source": [
    "from scipy.linalg import lu"
   ]
  },
  {
   "cell_type": "code",
   "execution_count": 3,
   "metadata": {},
   "outputs": [],
   "source": [
    "matrixA =np.array( ( [[1, 0.2, 0.5], [0.2,  1, 0.8] , [0.5,  0.8,  1]]))"
   ]
  },
  {
   "cell_type": "code",
   "execution_count": 7,
   "metadata": {},
   "outputs": [
    {
     "name": "stdout",
     "output_type": "stream",
     "text": [
      "Original matrix:\n",
      "[[1. 0. 0.]\n",
      " [0. 1. 0.]\n",
      " [0. 0. 1.]]\n",
      "Lower Triangular matrix L:\n",
      "[[1.         0.         0.        ]\n",
      " [0.2        1.         0.        ]\n",
      " [0.5        0.72916667 1.        ]]\n",
      "Upper triangular matrix U:\n",
      "[[1.         0.2        0.5       ]\n",
      " [0.         0.96       0.7       ]\n",
      " [0.         0.         0.23958333]]\n"
     ]
    }
   ],
   "source": [
    "P, L,U = lu(matrixA)\n",
    "print(f\"Original matrix:\" )\n",
    "print(P)\n",
    "print(f\"Lower Triangular matrix L:\")\n",
    "print(L)\n",
    "print(f\"Upper triangular matrix U:\" )\n",
    "print(U)"
   ]
  },
  {
   "cell_type": "markdown",
   "metadata": {},
   "source": [
    "Transform the matrix"
   ]
  },
  {
   "cell_type": "code",
   "execution_count": 5,
   "metadata": {},
   "outputs": [
    {
     "name": "stdout",
     "output_type": "stream",
     "text": [
      "[2, 0.4, 1.0]\n",
      "[0.4, 2, 1.6]\n",
      "[1.0, 1.6, 2]\n"
     ]
    }
   ],
   "source": [
    " #Given matrix A\n",
    "A = [\n",
    "    [1, 0.2, 0.5],\n",
    "    [0.2, 1, 0.8],\n",
    "    [0.5, 0.8, 1]\n",
    "]\n",
    "\n",
    "# Define the scaling factor\n",
    "scale_factor = 2\n",
    "\n",
    "# Scale matrix A\n",
    "A_scaled = [[element * scale_factor for element in row] for row in A]\n",
    "\n",
    "# Print the scaled matrix\n",
    "for row in A_scaled:\n",
    "    print(row)"
   ]
  }
 ],
 "metadata": {
  "kernelspec": {
   "display_name": "Python 3",
   "language": "python",
   "name": "python3"
  },
  "language_info": {
   "codemirror_mode": {
    "name": "ipython",
    "version": 3
   },
   "file_extension": ".py",
   "mimetype": "text/x-python",
   "name": "python",
   "nbconvert_exporter": "python",
   "pygments_lexer": "ipython3",
   "version": "3.11.7"
  }
 },
 "nbformat": 4,
 "nbformat_minor": 2
}
