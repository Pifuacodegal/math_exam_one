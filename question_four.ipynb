{
 "cells": [
  {
   "cell_type": "markdown",
   "metadata": {},
   "source": [
    "Compute an inversion of the matrix transpose."
   ]
  },
  {
   "cell_type": "code",
   "execution_count": 5,
   "metadata": {},
   "outputs": [],
   "source": [
    "import numpy as np"
   ]
  },
  {
   "cell_type": "code",
   "execution_count": 11,
   "metadata": {},
   "outputs": [
    {
     "name": "stdout",
     "output_type": "stream",
     "text": [
      "Transpose matrix: [[1.  0.2 0.5]\n",
      " [0.2 1.  0.8]\n",
      " [0.5 0.8 1. ]]\n"
     ]
    }
   ],
   "source": [
    "A= ( ([1, 0.2, 0.5]), ([0.2,  1, 0.8]) , ([0.5,  0.8,  1]))\n",
    "matrixA= np.array ( [[1, 0.2, 0.5], [0.2,  1, 0.8] , [0.5,  0.8,  1]])\n",
    "transpose_matrixA = np.transpose(matrixA)\n",
    "print(\"Transpose matrix:\", transpose_matrixA)"
   ]
  },
  {
   "cell_type": "markdown",
   "metadata": {},
   "source": [
    "Compute the determinant of the matrix"
   ]
  },
  {
   "cell_type": "code",
   "execution_count": 8,
   "metadata": {},
   "outputs": [
    {
     "name": "stdout",
     "output_type": "stream",
     "text": [
      "Determinat: 0.2299999999999999\n"
     ]
    }
   ],
   "source": [
    "A= ( ([1, 0.2, 0.5]), ([0.2,  1, 0.8]) , ([0.5,  0.8,  1]))\n",
    "matrixA = np.array ( [[1, 0.2, 0.5], [0.2,  1, 0.8] , [0.5,  0.8,  1]])\n",
    "determinant = np.linalg.det(matrixA)\n",
    "print(\"Determinat:\", determinant)"
   ]
  },
  {
   "cell_type": "markdown",
   "metadata": {},
   "source": [
    "Decompose the matrix"
   ]
  },
  {
   "cell_type": "code",
   "execution_count": 1,
   "metadata": {},
   "outputs": [],
   "source": [
    "import numpy as np"
   ]
  },
  {
   "cell_type": "code",
   "execution_count": 2,
   "metadata": {},
   "outputs": [],
   "source": [
    "from scipy.linalg import lu"
   ]
  },
  {
   "cell_type": "code",
   "execution_count": 3,
   "metadata": {},
   "outputs": [],
   "source": [
    "matrixA =np.array( ( [[1, 0.2, 0.5], [0.2,  1, 0.8] , [0.5,  0.8,  1]]))"
   ]
  },
  {
   "cell_type": "code",
   "execution_count": 7,
   "metadata": {},
   "outputs": [
    {
     "name": "stdout",
     "output_type": "stream",
     "text": [
      "Original matrix:\n",
      "[[1. 0. 0.]\n",
      " [0. 1. 0.]\n",
      " [0. 0. 1.]]\n",
      "Lower Triangular matrix L:\n",
      "[[1.         0.         0.        ]\n",
      " [0.2        1.         0.        ]\n",
      " [0.5        0.72916667 1.        ]]\n",
      "Upper triangular matrix U:\n",
      "[[1.         0.2        0.5       ]\n",
      " [0.         0.96       0.7       ]\n",
      " [0.         0.         0.23958333]]\n"
     ]
    }
   ],
   "source": [
    "P, L,U = lu(matrixA)\n",
    "print(f\"Original matrix:\" )\n",
    "print(P)\n",
    "print(f\"Lower Triangular matrix L:\")\n",
    "print(L)\n",
    "print(f\"Upper triangular matrix U:\" )\n",
    "print(U)"
   ]
  },
  {
   "cell_type": "markdown",
   "metadata": {},
   "source": [
    "Transform the matrix"
   ]
  },
  {
   "cell_type": "code",
   "execution_count": 2,
   "metadata": {},
   "outputs": [
    {
     "ename": "NameError",
     "evalue": "name 'matrixA' is not defined",
     "output_type": "error",
     "traceback": [
      "\u001b[1;31m---------------------------------------------------------------------------\u001b[0m",
      "\u001b[1;31mNameError\u001b[0m                                 Traceback (most recent call last)",
      "\u001b[1;32mc:\\Users\\Student\\Desktop\\WITI C3\\Year  One\\Semister One\\Mathematical Computing\\Exams\\Question four\\question_four.ipynb Cell 12\u001b[0m line \u001b[0;36m2\n\u001b[0;32m      <a href='vscode-notebook-cell:/c%3A/Users/Student/Desktop/WITI%20C3/Year%20%20One/Semister%20One/Mathematical%20Computing/Exams/Question%20four/question_four.ipynb#X14sZmlsZQ%3D%3D?line=0'>1</a>\u001b[0m \u001b[39mimport\u001b[39;00m \u001b[39mnumpy\u001b[39;00m \u001b[39mas\u001b[39;00m \u001b[39mnp\u001b[39;00m\n\u001b[1;32m----> <a href='vscode-notebook-cell:/c%3A/Users/Student/Desktop/WITI%20C3/Year%20%20One/Semister%20One/Mathematical%20Computing/Exams/Question%20four/question_four.ipynb#X14sZmlsZQ%3D%3D?line=1'>2</a>\u001b[0m transformed_matrixA \u001b[39m=\u001b[39mnp\u001b[39m.\u001b[39mtranspose(matrixA)\n\u001b[0;32m      <a href='vscode-notebook-cell:/c%3A/Users/Student/Desktop/WITI%20C3/Year%20%20One/Semister%20One/Mathematical%20Computing/Exams/Question%20four/question_four.ipynb#X14sZmlsZQ%3D%3D?line=2'>3</a>\u001b[0m \u001b[39mprint\u001b[39m(transformed_matrixA)\n",
      "\u001b[1;31mNameError\u001b[0m: name 'matrixA' is not defined"
     ]
    }
   ],
   "source": [
    "import numpy as np\n",
    "transformed_matrixA =np.transpose(matrixA)\n",
    "print(transformed_matrixA)"
   ]
  }
 ],
 "metadata": {
  "kernelspec": {
   "display_name": "Python 3",
   "language": "python",
   "name": "python3"
  },
  "language_info": {
   "codemirror_mode": {
    "name": "ipython",
    "version": 3
   },
   "file_extension": ".py",
   "mimetype": "text/x-python",
   "name": "python",
   "nbconvert_exporter": "python",
   "pygments_lexer": "ipython3",
   "version": "3.11.6"
  }
 },
 "nbformat": 4,
 "nbformat_minor": 2
}
