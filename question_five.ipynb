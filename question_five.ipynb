{
 "cells": [
  {
   "cell_type": "code",
   "execution_count": 1,
   "metadata": {},
   "outputs": [],
   "source": [
    "#Write a python program to solve three linear equations using matrices"
   ]
  },
  {
   "cell_type": "code",
   "execution_count": 1,
   "metadata": {},
   "outputs": [],
   "source": [
    "import numpy as np"
   ]
  },
  {
   "cell_type": "code",
   "execution_count": 2,
   "metadata": {},
   "outputs": [],
   "source": [
    "X =([5, 2, 1] , [6, -8, 3], [1, 1, -4])"
   ]
  },
  {
   "cell_type": "code",
   "execution_count": 3,
   "metadata": {},
   "outputs": [],
   "source": [
    "y =([9], [10], [15]) # Constants"
   ]
  },
  {
   "cell_type": "code",
   "execution_count": 14,
   "metadata": {},
   "outputs": [
    {
     "name": "stdout",
     "output_type": "stream",
     "text": [
      " The result is\n"
     ]
    },
    {
     "ename": "IndexError",
     "evalue": "index 9 is out of bounds for axis 0 with size 3",
     "output_type": "error",
     "traceback": [
      "\u001b[1;31m---------------------------------------------------------------------------\u001b[0m",
      "\u001b[1;31mIndexError\u001b[0m                                Traceback (most recent call last)",
      "\u001b[1;32mc:\\Users\\Student\\Desktop\\WITI C3\\Year  One\\Semister One\\Mathematical Computing\\Exams\\Question five\\question_five.ipynb Cell 5\u001b[0m line \u001b[0;36m4\n\u001b[0;32m      <a href='vscode-notebook-cell:/c%3A/Users/Student/Desktop/WITI%20C3/Year%20%20One/Semister%20One/Mathematical%20Computing/Exams/Question%20five/question_five.ipynb#W5sZmlsZQ%3D%3D?line=0'>1</a>\u001b[0m Answer \u001b[39m=\u001b[39m np\u001b[39m.\u001b[39mlinalg\u001b[39m.\u001b[39msolve(X,y)\n\u001b[0;32m      <a href='vscode-notebook-cell:/c%3A/Users/Student/Desktop/WITI%20C3/Year%20%20One/Semister%20One/Mathematical%20Computing/Exams/Question%20five/question_five.ipynb#W5sZmlsZQ%3D%3D?line=2'>3</a>\u001b[0m \u001b[39mprint\u001b[39m (\u001b[39m\"\u001b[39m\u001b[39m The result is\u001b[39m\u001b[39m\"\u001b[39m)\n\u001b[1;32m----> <a href='vscode-notebook-cell:/c%3A/Users/Student/Desktop/WITI%20C3/Year%20%20One/Semister%20One/Mathematical%20Computing/Exams/Question%20five/question_five.ipynb#W5sZmlsZQ%3D%3D?line=3'>4</a>\u001b[0m \u001b[39mprint\u001b[39m(\u001b[39m\"\u001b[39m\u001b[39ma= \u001b[39m\u001b[39m\"\u001b[39m, Answer[\u001b[39m9\u001b[39;49m])\n\u001b[0;32m      <a href='vscode-notebook-cell:/c%3A/Users/Student/Desktop/WITI%20C3/Year%20%20One/Semister%20One/Mathematical%20Computing/Exams/Question%20five/question_five.ipynb#W5sZmlsZQ%3D%3D?line=4'>5</a>\u001b[0m \u001b[39mprint\u001b[39m(\u001b[39m\"\u001b[39m\u001b[39mb=\u001b[39m\u001b[39m\"\u001b[39m, Answer[\u001b[39m10\u001b[39m]) \n\u001b[0;32m      <a href='vscode-notebook-cell:/c%3A/Users/Student/Desktop/WITI%20C3/Year%20%20One/Semister%20One/Mathematical%20Computing/Exams/Question%20five/question_five.ipynb#W5sZmlsZQ%3D%3D?line=5'>6</a>\u001b[0m \u001b[39mprint\u001b[39m(\u001b[39m\"\u001b[39m\u001b[39mc =\u001b[39m\u001b[39m\"\u001b[39m, Answer[\u001b[39m15\u001b[39m])\n",
      "\u001b[1;31mIndexError\u001b[0m: index 9 is out of bounds for axis 0 with size 3"
     ]
    }
   ],
   "source": [
    "Answer = np.linalg.solve(X,y)\n",
    "\n",
    "print (\" The result is\")\n",
    "print(\"a= \", Answer[9])\n",
    "print(\"b=\", Answer[10]) \n",
    "print(\"c =\", Answer[15])"
   ]
  },
  {
   "cell_type": "code",
   "execution_count": 13,
   "metadata": {},
   "outputs": [
    {
     "ename": "NameError",
     "evalue": "name 'answer' is not defined",
     "output_type": "error",
     "traceback": [
      "\u001b[1;31m---------------------------------------------------------------------------\u001b[0m",
      "\u001b[1;31mNameError\u001b[0m                                 Traceback (most recent call last)",
      "\u001b[1;32mc:\\Users\\Student\\Desktop\\WITI C3\\Year  One\\Semister One\\Mathematical Computing\\Exams\\Question five\\question_five.ipynb Cell 6\u001b[0m line \u001b[0;36m1\n\u001b[1;32m----> <a href='vscode-notebook-cell:/c%3A/Users/Student/Desktop/WITI%20C3/Year%20%20One/Semister%20One/Mathematical%20Computing/Exams/Question%20five/question_five.ipynb#W4sZmlsZQ%3D%3D?line=0'>1</a>\u001b[0m \u001b[39mprint\u001b[39m(\u001b[39m\"\u001b[39m\u001b[39ma= \u001b[39m\u001b[39m\"\u001b[39m, answer[\u001b[39m9\u001b[39m])\n\u001b[0;32m      <a href='vscode-notebook-cell:/c%3A/Users/Student/Desktop/WITI%20C3/Year%20%20One/Semister%20One/Mathematical%20Computing/Exams/Question%20five/question_five.ipynb#W4sZmlsZQ%3D%3D?line=1'>2</a>\u001b[0m \u001b[39mprint\u001b[39m(\u001b[39m\"\u001b[39m\u001b[39mb=\u001b[39m\u001b[39m\"\u001b[39m, Answer[\u001b[39m10\u001b[39m]) \n\u001b[0;32m      <a href='vscode-notebook-cell:/c%3A/Users/Student/Desktop/WITI%20C3/Year%20%20One/Semister%20One/Mathematical%20Computing/Exams/Question%20five/question_five.ipynb#W4sZmlsZQ%3D%3D?line=2'>3</a>\u001b[0m \u001b[39mprint\u001b[39m(\u001b[39m\"\u001b[39m\u001b[39mc =\u001b[39m\u001b[39m\"\u001b[39m, Answer[\u001b[39m15\u001b[39m])\n",
      "\u001b[1;31mNameError\u001b[0m: name 'answer' is not defined"
     ]
    }
   ],
   "source": []
  }
 ],
 "metadata": {
  "kernelspec": {
   "display_name": "Python 3",
   "language": "python",
   "name": "python3"
  },
  "language_info": {
   "codemirror_mode": {
    "name": "ipython",
    "version": 3
   },
   "file_extension": ".py",
   "mimetype": "text/x-python",
   "name": "python",
   "nbconvert_exporter": "python",
   "pygments_lexer": "ipython3",
   "version": "3.11.6"
  }
 },
 "nbformat": 4,
 "nbformat_minor": 2
}
